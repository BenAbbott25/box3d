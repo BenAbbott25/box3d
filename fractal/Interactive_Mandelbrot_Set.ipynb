{
 "cells": [
  {
   "cell_type": "code",
   "execution_count": null,
   "id": "925f8e66",
   "metadata": {},
   "outputs": [],
   "source": [
    "import numpy as np\n",
    "import matplotlib.pyplot as plt\n",
    "import ipywidgets as widgets\n",
    "from ipywidgets import interact, FloatSlider, IntSlider\n",
    "\n",
    "def mandelbrot(c, max_iter, power):\n",
    "    z = 0\n",
    "    n = 0\n",
    "    while abs(z) <= 2 and n < max_iter:\n",
    "        z = z**power + c\n",
    "        n += 1\n",
    "    if n == max_iter:\n",
    "        return max_iter\n",
    "    return n + 1 - np.log(np.log2(abs(z)))\n",
    "\n",
    "def plot_mandelbrot(zoom, max_iter, power, real_offset, imag_offset):\n",
    "    width = 600\n",
    "    height = 600\n",
    "    real_axis = np.linspace(real_offset - zoom, real_offset + zoom, width)\n",
    "    imag_axis = np.linspace(imag_offset - zoom, imag_offset + zoom, height)\n",
    "    c = np.array([r + 1j*i for r in real_axis for i in imag_axis])\n",
    "    mandelbrot_vector = np.vectorize(mandelbrot)\n",
    "    escape_values = mandelbrot_vector(c, max_iter, power).reshape((height, width))\n",
    "    plt.figure(figsize=(10, 8))\n",
    "    plt.imshow(escape_values, extent=(real_offset - zoom, real_offset + zoom, imag_offset - zoom, imag_offset + zoom), cmap='hot', interpolation='nearest')\n",
    "    plt.colorbar()\n",
    "    plt.title('Mandelbrot Set')\n",
    "    plt.xlabel('Re')\n",
    "    plt.ylabel('Im')\n",
    "    plt.show()\n",
    "\n",
    "zoom = FloatSlider(min=0.1, max=2.5, step=0.1, value=2.0, description='Zoom')\n",
    "max_iter_slider = IntSlider(min=10, max=1000, step=10, value=256, description='Max Iterations')\n",
    "power_slider = FloatSlider(min=1, max=10, step=0.1, value=2.0, description='Power of z')\n",
    "real_offset = FloatSlider(min=-2.5, max=2.5, step=0.1, value=0, description='Real Offset')\n",
    "imag_offset = FloatSlider(min=-2.5, max=2.5, step=0.1, value=0, description='Imaginary Offset')\n",
    "\n",
    "\n",
    "interact(plot_mandelbrot, zoom=zoom, max_iter=max_iter_slider, power=power_slider, real_offset=real_offset, imag_offset=imag_offset)\n"
   ]
  }
 ],
 "metadata": {
  "kernelspec": {
   "display_name": "Python 3",
   "language": "python",
   "name": "python3"
  },
  "language_info": {
   "codemirror_mode": {
    "name": "ipython",
    "version": 3
   },
   "file_extension": ".py",
   "mimetype": "text/x-python",
   "name": "python",
   "nbconvert_exporter": "python",
   "pygments_lexer": "ipython3",
   "version": "3.9.6"
  }
 },
 "nbformat": 4,
 "nbformat_minor": 5
}
