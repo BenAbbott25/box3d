{
 "cells": [
  {
   "cell_type": "code",
   "execution_count": 1,
   "metadata": {},
   "outputs": [
    {
     "data": {
      "application/vnd.jupyter.widget-view+json": {
       "model_id": "ffaabdede7e54eba9eff80f81e14b0b1",
       "version_major": 2,
       "version_minor": 0
      },
      "text/plain": [
       "IntSlider(value=256, description='Max Iterations:', max=1000, min=10, step=10)"
      ]
     },
     "metadata": {},
     "output_type": "display_data"
    },
    {
     "data": {
      "application/vnd.jupyter.widget-view+json": {
       "model_id": "32d83011b8864370aa3ecb3198c6062d",
       "version_major": 2,
       "version_minor": 0
      },
      "text/plain": [
       "IntSlider(value=800, description='Width:', max=2000, min=100, step=100)"
      ]
     },
     "metadata": {},
     "output_type": "display_data"
    },
    {
     "data": {
      "application/vnd.jupyter.widget-view+json": {
       "model_id": "880f373c1d9347d0a0625cdac4cb7b17",
       "version_major": 2,
       "version_minor": 0
      },
      "text/plain": [
       "IntSlider(value=800, description='Height:', max=2000, min=100, step=100)"
      ]
     },
     "metadata": {},
     "output_type": "display_data"
    },
    {
     "data": {
      "application/vnd.jupyter.widget-view+json": {
       "model_id": "a4607da09a864a3bb200660650d69d24",
       "version_major": 2,
       "version_minor": 0
      },
      "text/plain": [
       "FloatSlider(value=-2.0, description='Real Min:', max=1.0, min=-3.0)"
      ]
     },
     "metadata": {},
     "output_type": "display_data"
    },
    {
     "data": {
      "application/vnd.jupyter.widget-view+json": {
       "model_id": "0b3f7a26ad6f4f0ba82f7186952387f3",
       "version_major": 2,
       "version_minor": 0
      },
      "text/plain": [
       "FloatSlider(value=1.0, description='Real Max:', max=2.0, min=-2.0)"
      ]
     },
     "metadata": {},
     "output_type": "display_data"
    },
    {
     "data": {
      "application/vnd.jupyter.widget-view+json": {
       "model_id": "a51829bd5ecb4038940d911e85d8a823",
       "version_major": 2,
       "version_minor": 0
      },
      "text/plain": [
       "FloatSlider(value=-1.5, description='Imag Min:', max=1.0, min=-2.0)"
      ]
     },
     "metadata": {},
     "output_type": "display_data"
    },
    {
     "data": {
      "application/vnd.jupyter.widget-view+json": {
       "model_id": "ce181ad453bb4380ac92645839a40ad7",
       "version_major": 2,
       "version_minor": 0
      },
      "text/plain": [
       "FloatSlider(value=1.5, description='Imag Max:', max=2.0, min=-1.0)"
      ]
     },
     "metadata": {},
     "output_type": "display_data"
    }
   ],
   "source": [
    "import ipywidgets as widgets\n",
    "import numpy as np\n",
    "import matplotlib.pyplot as plt\n",
    "# import mandelbrot\n",
    "\n",
    "# Create sliders for Mandelbrot parameters\n",
    "max_iter_slider = widgets.IntSlider(value=256, min=10, max=1000, step=10, description='Max Iterations:')\n",
    "width_slider = widgets.IntSlider(value=800, min=100, max=2000, step=100, description='Width:')\n",
    "height_slider = widgets.IntSlider(value=800, min=100, max=2000, step=100, description='Height:')\n",
    "real_min_slider = widgets.FloatSlider(value=-2.0, min=-3.0, max=1.0, step=0.1, description='Real Min:')\n",
    "real_max_slider = widgets.FloatSlider(value=1.0, min=-2.0, max=2.0, step=0.1, description='Real Max:')\n",
    "imag_min_slider = widgets.FloatSlider(value=-1.5, min=-2.0, max=1.0, step=0.1, description='Imag Min:')\n",
    "imag_max_slider = widgets.FloatSlider(value=1.5, min=-1.0, max=2.0, step=0.1, description='Imag Max:')\n",
    "\n",
    "# Display the sliders\n",
    "display(max_iter_slider, width_slider, height_slider, real_min_slider, real_max_slider, imag_min_slider, imag_max_slider)\n"
   ]
  }
 ],
 "metadata": {
  "kernelspec": {
   "display_name": "Python 3",
   "language": "python",
   "name": "python3"
  },
  "language_info": {
   "codemirror_mode": {
    "name": "ipython",
    "version": 3
   },
   "file_extension": ".py",
   "mimetype": "text/x-python",
   "name": "python",
   "nbconvert_exporter": "python",
   "pygments_lexer": "ipython3",
   "version": "3.9.6"
  }
 },
 "nbformat": 4,
 "nbformat_minor": 2
}
